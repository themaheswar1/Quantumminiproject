{
 "cells": [
  {
   "cell_type": "code",
   "execution_count": 1,
   "id": "b252dfcd-c277-46cf-905a-dd38c0a09681",
   "metadata": {
    "tags": []
   },
   "outputs": [],
   "source": [
    "# Importing standard Qiskit libraries\n",
    "from qiskit import QuantumCircuit, transpile\n",
    "from qiskit.tools.jupyter import *\n",
    "from qiskit.visualization import *\n",
    "from ibm_quantum_widgets import *\n",
    "from qiskit_aer import AerSimulator\n",
    "\n",
    "# qiskit-ibmq-provider has been deprecated.\n",
    "# Please see the Migration Guides in https://ibm.biz/provider_migration_guide for more detail.\n",
    "from qiskit_ibm_runtime import QiskitRuntimeService, Sampler, Estimator, Session, Options\n",
    "\n",
    "# Loading your IBM Quantum account(s)\n",
    "service = QiskitRuntimeService(channel=\"ibm_quantum\")\n",
    "\n",
    "# Invoke a primitive inside a session. For more details see https://qiskit.org/documentation/partners/qiskit_ibm_runtime/tutorials.html\n",
    "# with Session(backend=service.backend(\"ibmq_qasm_simulator\")):\n",
    "#     result = Sampler().run(circuits).result()"
   ]
  },
  {
   "cell_type": "code",
   "execution_count": 3,
   "id": "a23f9274-a747-445e-8659-057337df49db",
   "metadata": {
    "tags": []
   },
   "outputs": [
    {
     "name": "stdout",
     "output_type": "stream",
     "text": [
      "                               \n",
      "q1_0: ────────────■────────────\n",
      "      ┌───┐       │  ┌───┐     \n",
      "q1_1: ┤ X ├───────■──┤ X ├─────\n",
      "      ├───┤       │  ├───┤     \n",
      "q1_2: ┤ X ├───────■──┤ X ├─────\n",
      "      └───┘       │  └───┘     \n",
      "q1_3: ────────────■────────────\n",
      "      ┌───┐┌───┐┌─┴─┐┌───┐┌───┐\n",
      "q1_4: ┤ X ├┤ H ├┤ X ├┤ H ├┤ X ├\n",
      "      └───┘└───┘└───┘└───┘└───┘\n"
     ]
    }
   ],
   "source": [
    "# QUESTION 1 \n",
    "# Create a program that builds an oracle for a given string (e.g. given 01101, will return a QuantumCircuit \n",
    "# that inverts the phase of the state |01101> and leaves all other states unchanged.\n",
    "\n",
    "# SOLUTION : \n",
    "# building the oracle to change the phase of the state without changing the bits postion or bits \n",
    "# we will use the x-gate to invert the bits of 1\n",
    "from qiskit import QuantumCircuit, QuantumRegister, ClassicalRegister, execute, Aer\n",
    "\n",
    "def build_oracle(target_string):\n",
    "    # Determine the number of qubits required based on the target string length\n",
    "    num_qubits = len(target_string)\n",
    "\n",
    "    # Create a quantum circuit with the required number of qubits\n",
    "    qr = QuantumRegister(num_qubits)\n",
    "    oracle = QuantumCircuit(qr)\n",
    "\n",
    "    # Apply a phase inversion gate to the target string\n",
    "    for i, bit in enumerate(target_string):\n",
    "        if bit == '1':\n",
    "            oracle.x(qr[i])\n",
    "\n",
    "    oracle.h(qr[num_qubits-1])\n",
    "    oracle.mct(qr[:-1], qr[num_qubits-1])\n",
    "    oracle.h(qr[num_qubits-1])\n",
    "\n",
    "    for i, bit in enumerate(target_string):\n",
    "        if bit == '1':\n",
    "            oracle.x(qr[i])\n",
    "\n",
    "    # Return the constructed oracle circuit\n",
    "    return oracle\n",
    "\n",
    "# Example usage\n",
    "target_string = \"01101\"\n",
    "oracle = build_oracle(target_string)\n",
    "print(oracle)\n"
   ]
  },
  {
   "cell_type": "code",
   "execution_count": null,
   "id": "0b9abd4c-3618-44b7-8a4b-347de122c1db",
   "metadata": {},
   "outputs": [],
   "source": []
  }
 ],
 "metadata": {
  "kernelspec": {
   "display_name": "Python 3 (ipykernel)",
   "language": "python",
   "name": "python3"
  },
  "language_info": {
   "codemirror_mode": {
    "name": "ipython",
    "version": 3
   },
   "file_extension": ".py",
   "mimetype": "text/x-python",
   "name": "python",
   "nbconvert_exporter": "python",
   "pygments_lexer": "ipython3",
   "version": "3.10.8"
  },
  "widgets": {
   "application/vnd.jupyter.widget-state+json": {
    "state": {
     "0a76b1c21b284ae193d4412c979bfad4": {
      "model_module": "@jupyter-widgets/controls",
      "model_module_version": "2.0.0",
      "model_name": "HTMLStyleModel",
      "state": {
       "description_width": "",
       "font_size": null,
       "text_color": null
      }
     },
     "2881956ffd0044e7bbc06302b06603b3": {
      "model_module": "@jupyter-widgets/base",
      "model_module_version": "2.0.0",
      "model_name": "LayoutModel",
      "state": {
       "margin": "0px 0px 10px 0px"
      }
     },
     "2d13cfd5ca544113aaf5d11ed0e8dd65": {
      "model_module": "@jupyter-widgets/controls",
      "model_module_version": "2.0.0",
      "model_name": "HTMLModel",
      "state": {
       "layout": "IPY_MODEL_2881956ffd0044e7bbc06302b06603b3",
       "style": "IPY_MODEL_8c3731afd84147369a5e3aa65db11411",
       "value": "<p style='font-family: IBM Plex Sans, Arial, Helvetica, sans-serif; font-size: 20px; font-weight: medium;'>Circuit Properties</p>"
      }
     },
     "332d0b9da4f4462f88cec321231313ba": {
      "model_module": "@jupyter-widgets/controls",
      "model_module_version": "2.0.0",
      "model_name": "HTMLModel",
      "state": {
       "layout": "IPY_MODEL_69a27c519c8c4208ad760db91f23ade5",
       "style": "IPY_MODEL_8f1bbdc8e3e241568cd7de1b03b7f3c7",
       "value": "<h5>Status</h5>"
      }
     },
     "39d3d2486c6c44ca93d1d5670a62be94": {
      "model_module": "@jupyter-widgets/controls",
      "model_module_version": "2.0.0",
      "model_name": "HBoxModel",
      "state": {
       "children": [
        "IPY_MODEL_43fa253161284761a9e518077dfbab99",
        "IPY_MODEL_854c47c82a074b4484c4c1ab8eb5bf4b",
        "IPY_MODEL_332d0b9da4f4462f88cec321231313ba",
        "IPY_MODEL_e742e7ecd8834963b760113447c97453",
        "IPY_MODEL_ef8d342a019f4e3db94df4c76dfcc12c"
       ],
       "layout": "IPY_MODEL_7a5ca12ab57745d9863228771a1ae464"
      }
     },
     "43fa253161284761a9e518077dfbab99": {
      "model_module": "@jupyter-widgets/controls",
      "model_module_version": "2.0.0",
      "model_name": "HTMLModel",
      "state": {
       "layout": "IPY_MODEL_56049858816a493b8b9bf0db9508a242",
       "style": "IPY_MODEL_711e9d4148fa4091b7860d35fe1de245",
       "value": "<h5>Job ID</h5>"
      }
     },
     "56049858816a493b8b9bf0db9508a242": {
      "model_module": "@jupyter-widgets/base",
      "model_module_version": "2.0.0",
      "model_name": "LayoutModel",
      "state": {
       "width": "190px"
      }
     },
     "60b24fa9a7b546cab4a69dd28a99b1a8": {
      "model_module": "@jupyter-widgets/controls",
      "model_module_version": "2.0.0",
      "model_name": "HTMLStyleModel",
      "state": {
       "description_width": "",
       "font_size": null,
       "text_color": null
      }
     },
     "61036715c4c643eab57169d1f5075c65": {
      "model_module": "@jupyter-widgets/base",
      "model_module_version": "2.0.0",
      "model_name": "LayoutModel",
      "state": {
       "width": "70px"
      }
     },
     "69a27c519c8c4208ad760db91f23ade5": {
      "model_module": "@jupyter-widgets/base",
      "model_module_version": "2.0.0",
      "model_name": "LayoutModel",
      "state": {
       "width": "95px"
      }
     },
     "711e9d4148fa4091b7860d35fe1de245": {
      "model_module": "@jupyter-widgets/controls",
      "model_module_version": "2.0.0",
      "model_name": "HTMLStyleModel",
      "state": {
       "description_width": "",
       "font_size": null,
       "text_color": null
      }
     },
     "7201cc3aa830427392af41157aa06b25": {
      "model_module": "@jupyter-widgets/controls",
      "model_module_version": "2.0.0",
      "model_name": "ButtonModel",
      "state": {
       "button_style": "primary",
       "description": "Clear",
       "layout": "IPY_MODEL_eedb2a8d426a4230a1872e708e9ce8fc",
       "style": "IPY_MODEL_e75b5fc2ff50442380eb35ee4851da5f",
       "tooltip": null
      }
     },
     "7a5ca12ab57745d9863228771a1ae464": {
      "model_module": "@jupyter-widgets/base",
      "model_module_version": "2.0.0",
      "model_name": "LayoutModel",
      "state": {
       "margin": "0px 0px 0px 37px",
       "width": "600px"
      }
     },
     "854c47c82a074b4484c4c1ab8eb5bf4b": {
      "model_module": "@jupyter-widgets/controls",
      "model_module_version": "2.0.0",
      "model_name": "HTMLModel",
      "state": {
       "layout": "IPY_MODEL_de1fd6861b1a4dd589e9f3a120dca6ee",
       "style": "IPY_MODEL_0a76b1c21b284ae193d4412c979bfad4",
       "value": "<h5>Backend</h5>"
      }
     },
     "8c3731afd84147369a5e3aa65db11411": {
      "model_module": "@jupyter-widgets/controls",
      "model_module_version": "2.0.0",
      "model_name": "HTMLStyleModel",
      "state": {
       "description_width": "",
       "font_size": null,
       "text_color": null
      }
     },
     "8f1bbdc8e3e241568cd7de1b03b7f3c7": {
      "model_module": "@jupyter-widgets/controls",
      "model_module_version": "2.0.0",
      "model_name": "HTMLStyleModel",
      "state": {
       "description_width": "",
       "font_size": null,
       "text_color": null
      }
     },
     "9fce51a20a484ebb9df9afffa708b3b0": {
      "model_module": "@jupyter-widgets/base",
      "model_module_version": "2.0.0",
      "model_name": "LayoutModel",
      "state": {}
     },
     "b81b2d9cb7ff4b45b36ee2ab925462ab": {
      "model_module": "@jupyter-widgets/controls",
      "model_module_version": "2.0.0",
      "model_name": "GridBoxModel",
      "state": {
       "children": [
        "IPY_MODEL_7201cc3aa830427392af41157aa06b25"
       ],
       "layout": "IPY_MODEL_cc581ee97a374c479485213c23f881b4"
      }
     },
     "c22c5896a9974b0cb2f2407cbfeef358": {
      "model_module": "@jupyter-widgets/controls",
      "model_module_version": "2.0.0",
      "model_name": "HTMLStyleModel",
      "state": {
       "description_width": "",
       "font_size": null,
       "text_color": null
      }
     },
     "cc581ee97a374c479485213c23f881b4": {
      "model_module": "@jupyter-widgets/base",
      "model_module_version": "2.0.0",
      "model_name": "LayoutModel",
      "state": {
       "grid_template_areas": "\n                                       \". . . . right \"\n                                        ",
       "grid_template_columns": "20% 20% 20% 20% 20%",
       "width": "100%"
      }
     },
     "de1fd6861b1a4dd589e9f3a120dca6ee": {
      "model_module": "@jupyter-widgets/base",
      "model_module_version": "2.0.0",
      "model_name": "LayoutModel",
      "state": {
       "width": "145px"
      }
     },
     "e742e7ecd8834963b760113447c97453": {
      "model_module": "@jupyter-widgets/controls",
      "model_module_version": "2.0.0",
      "model_name": "HTMLModel",
      "state": {
       "layout": "IPY_MODEL_61036715c4c643eab57169d1f5075c65",
       "style": "IPY_MODEL_60b24fa9a7b546cab4a69dd28a99b1a8",
       "value": "<h5>Queue</h5>"
      }
     },
     "e75b5fc2ff50442380eb35ee4851da5f": {
      "model_module": "@jupyter-widgets/controls",
      "model_module_version": "2.0.0",
      "model_name": "ButtonStyleModel",
      "state": {
       "font_family": null,
       "font_size": null,
       "font_style": null,
       "font_variant": null,
       "font_weight": null,
       "text_color": null,
       "text_decoration": null
      }
     },
     "eedb2a8d426a4230a1872e708e9ce8fc": {
      "model_module": "@jupyter-widgets/base",
      "model_module_version": "2.0.0",
      "model_name": "LayoutModel",
      "state": {
       "grid_area": "right",
       "padding": "0px 0px 0px 0px",
       "width": "70px"
      }
     },
     "ef8d342a019f4e3db94df4c76dfcc12c": {
      "model_module": "@jupyter-widgets/controls",
      "model_module_version": "2.0.0",
      "model_name": "HTMLModel",
      "state": {
       "layout": "IPY_MODEL_9fce51a20a484ebb9df9afffa708b3b0",
       "style": "IPY_MODEL_c22c5896a9974b0cb2f2407cbfeef358",
       "value": "<h5>Message</h5>"
      }
     }
    },
    "version_major": 2,
    "version_minor": 0
   }
  }
 },
 "nbformat": 4,
 "nbformat_minor": 5
}
