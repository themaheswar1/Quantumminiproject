{
 "cells": [
  {
   "cell_type": "code",
   "execution_count": 1,
   "id": "2d5e0d2c-3432-493e-b3cd-355f41552144",
   "metadata": {
    "tags": []
   },
   "outputs": [],
   "source": [
    "# Importing standard Qiskit libraries\n",
    "from qiskit import QuantumCircuit, transpile\n",
    "from qiskit.tools.jupyter import *\n",
    "from qiskit.visualization import *\n",
    "from ibm_quantum_widgets import *\n",
    "from qiskit_aer import AerSimulator\n",
    "\n",
    "# qiskit-ibmq-provider has been deprecated.\n",
    "# Please see the Migration Guides in https://ibm.biz/provider_migration_guide for more detail.\n",
    "from qiskit_ibm_runtime import QiskitRuntimeService, Sampler, Estimator, Session, Options\n",
    "\n",
    "# Loading your IBM Quantum account(s)\n",
    "service = QiskitRuntimeService(channel=\"ibm_quantum\")\n",
    "\n",
    "# Invoke a primitive inside a session. For more details see https://qiskit.org/documentation/partners/qiskit_ibm_runtime/tutorials.html\n",
    "# with Session(backend=service.backend(\"ibmq_qasm_simulator\")):\n",
    "#     result = Sampler().run(circuits).result()"
   ]
  },
  {
   "cell_type": "code",
   "execution_count": 3,
   "id": "03e823eb-2929-4fc1-bfdb-e2542a4f37d4",
   "metadata": {
    "tags": []
   },
   "outputs": [
    {
     "name": "stdout",
     "output_type": "stream",
     "text": [
      "                              \n",
      "q_0: ──■──────────────■───────\n",
      "       │              │       \n",
      "q_1: ──┼──────────────┼───────\n",
      "       │              │       \n",
      "q_2: ──┼────■─────────┼────■──\n",
      "       │    │         │    │  \n",
      "q_3: ──┼────┼─────────┼────┼──\n",
      "     ┌─┴─┐┌─┴─┐┌───┐┌─┴─┐┌─┴─┐\n",
      "q_4: ┤ X ├┤ X ├┤ Z ├┤ X ├┤ X ├\n",
      "     └───┘└───┘└───┘└───┘└───┘\n",
      "c: 4/═════════════════════════\n",
      "                              \n",
      "Circuit size: 5\n"
     ]
    }
   ],
   "source": [
    "# Create a program that builds an oracle circuit from a problem (like the Phase Oracle class does in the previous page).\n",
    "# Assess how the size of your circuits grow with the size of the problem\n",
    "\n",
    "# IDEA : Suppose we have a problem where the input is a binary string of length n, and the task is\n",
    "# to create an oracle circuit that inverts the phase of a specific target stringwhile leaving all other states unchanged.\n",
    "\n",
    "from qiskit import QuantumCircuit, Aer, execute\n",
    "\n",
    "def build_oracle(problem):\n",
    "    # Determine the size of the problem\n",
    "    problem_size = len(problem)\n",
    "    \n",
    "    # Create a quantum circuit with the necessary number of qubits and classical bits\n",
    "    circuit = QuantumCircuit(problem_size + 1, problem_size)\n",
    "    \n",
    "    # Apply the problem-specific oracle gate\n",
    "    for index, value in enumerate(problem):\n",
    "        if value == 1:\n",
    "            circuit.cx(index, problem_size)\n",
    "    \n",
    "    # Apply the phase-flip gate to the last qubit\n",
    "    circuit.z(problem_size)\n",
    "    \n",
    "    # Apply the problem-specific oracle gate again\n",
    "    for index, value in enumerate(problem):\n",
    "        if value == 1:\n",
    "            circuit.cx(index, problem_size)\n",
    "    \n",
    "    return circuit\n",
    "\n",
    "# Example usage\n",
    "problem = [1, 0, 1, 0]  # Define the problem\n",
    "\n",
    "oracle_circuit = build_oracle(problem)  # Build the oracle circuit\n",
    "\n",
    "# Print the oracle circuit and its size\n",
    "print(oracle_circuit)\n",
    "print(\"Circuit size:\", oracle_circuit.size())\n",
    "\n"
   ]
  },
  {
   "cell_type": "code",
   "execution_count": null,
   "id": "34f63128-6d1d-46b9-b5ee-71f727424555",
   "metadata": {},
   "outputs": [],
   "source": []
  }
 ],
 "metadata": {
  "kernelspec": {
   "display_name": "Python 3 (ipykernel)",
   "language": "python",
   "name": "python3"
  },
  "language_info": {
   "codemirror_mode": {
    "name": "ipython",
    "version": 3
   },
   "file_extension": ".py",
   "mimetype": "text/x-python",
   "name": "python",
   "nbconvert_exporter": "python",
   "pygments_lexer": "ipython3",
   "version": "3.10.8"
  },
  "widgets": {
   "application/vnd.jupyter.widget-state+json": {
    "state": {
     "06bf43bd083842c787776a67c6edf3ec": {
      "model_module": "@jupyter-widgets/controls",
      "model_module_version": "2.0.0",
      "model_name": "HTMLModel",
      "state": {
       "layout": "IPY_MODEL_fd2d4841767440d0a2b02ba6299c9576",
       "style": "IPY_MODEL_b95324ba1519496aa221601f6a57d02d",
       "value": "<h5>Message</h5>"
      }
     },
     "07a743a6e8c942209c09e98f817dae23": {
      "model_module": "@jupyter-widgets/controls",
      "model_module_version": "2.0.0",
      "model_name": "GridBoxModel",
      "state": {
       "children": [
        "IPY_MODEL_929d332483e54f9d968fd14e454d6d86"
       ],
       "layout": "IPY_MODEL_5f2493dd9cf84badbf71cdfad2f57e4a"
      }
     },
     "184d978ae2f6426196a1a02f5e44d374": {
      "model_module": "@jupyter-widgets/controls",
      "model_module_version": "2.0.0",
      "model_name": "HTMLStyleModel",
      "state": {
       "description_width": "",
       "font_size": null,
       "text_color": null
      }
     },
     "20ef1deab47b48448ee30e8ce197b197": {
      "model_module": "@jupyter-widgets/base",
      "model_module_version": "2.0.0",
      "model_name": "LayoutModel",
      "state": {
       "width": "70px"
      }
     },
     "35a22eb1478149cf84f523e6f3919a97": {
      "model_module": "@jupyter-widgets/base",
      "model_module_version": "2.0.0",
      "model_name": "LayoutModel",
      "state": {
       "width": "190px"
      }
     },
     "482582b5a938490a9e6e2c87dc245e43": {
      "model_module": "@jupyter-widgets/controls",
      "model_module_version": "2.0.0",
      "model_name": "HTMLStyleModel",
      "state": {
       "description_width": "",
       "font_size": null,
       "text_color": null
      }
     },
     "48662b477c604c64bc6acbf706f1214f": {
      "model_module": "@jupyter-widgets/controls",
      "model_module_version": "2.0.0",
      "model_name": "HTMLModel",
      "state": {
       "layout": "IPY_MODEL_20ef1deab47b48448ee30e8ce197b197",
       "style": "IPY_MODEL_80744e7832d94edebe3c739b79bb5fd5",
       "value": "<h5>Queue</h5>"
      }
     },
     "5f2493dd9cf84badbf71cdfad2f57e4a": {
      "model_module": "@jupyter-widgets/base",
      "model_module_version": "2.0.0",
      "model_name": "LayoutModel",
      "state": {
       "grid_template_areas": "\n                                       \". . . . right \"\n                                        ",
       "grid_template_columns": "20% 20% 20% 20% 20%",
       "width": "100%"
      }
     },
     "6f73cf3d5a794fd380d99095aeaba2fc": {
      "model_module": "@jupyter-widgets/controls",
      "model_module_version": "2.0.0",
      "model_name": "HTMLModel",
      "state": {
       "layout": "IPY_MODEL_ae190b72b9d34eeab025411096fc5558",
       "style": "IPY_MODEL_ddfe7b557c4644248ce4c33cc81d31d9",
       "value": "<p style='font-family: IBM Plex Sans, Arial, Helvetica, sans-serif; font-size: 20px; font-weight: medium;'>Circuit Properties</p>"
      }
     },
     "80744e7832d94edebe3c739b79bb5fd5": {
      "model_module": "@jupyter-widgets/controls",
      "model_module_version": "2.0.0",
      "model_name": "HTMLStyleModel",
      "state": {
       "description_width": "",
       "font_size": null,
       "text_color": null
      }
     },
     "8aa47a07eb4d4f55b3fe37c1595bd300": {
      "model_module": "@jupyter-widgets/controls",
      "model_module_version": "2.0.0",
      "model_name": "HTMLStyleModel",
      "state": {
       "description_width": "",
       "font_size": null,
       "text_color": null
      }
     },
     "8b7a6014379a48b6ab670fd0e96d958a": {
      "model_module": "@jupyter-widgets/base",
      "model_module_version": "2.0.0",
      "model_name": "LayoutModel",
      "state": {
       "width": "145px"
      }
     },
     "8c45b82cacbb4403aa8a62c23d3bc177": {
      "model_module": "@jupyter-widgets/base",
      "model_module_version": "2.0.0",
      "model_name": "LayoutModel",
      "state": {
       "grid_area": "right",
       "padding": "0px 0px 0px 0px",
       "width": "70px"
      }
     },
     "929d332483e54f9d968fd14e454d6d86": {
      "model_module": "@jupyter-widgets/controls",
      "model_module_version": "2.0.0",
      "model_name": "ButtonModel",
      "state": {
       "button_style": "primary",
       "description": "Clear",
       "layout": "IPY_MODEL_8c45b82cacbb4403aa8a62c23d3bc177",
       "style": "IPY_MODEL_a568f6080e114b509d792f1e9a1f5de6",
       "tooltip": null
      }
     },
     "a568f6080e114b509d792f1e9a1f5de6": {
      "model_module": "@jupyter-widgets/controls",
      "model_module_version": "2.0.0",
      "model_name": "ButtonStyleModel",
      "state": {
       "font_family": null,
       "font_size": null,
       "font_style": null,
       "font_variant": null,
       "font_weight": null,
       "text_color": null,
       "text_decoration": null
      }
     },
     "ae190b72b9d34eeab025411096fc5558": {
      "model_module": "@jupyter-widgets/base",
      "model_module_version": "2.0.0",
      "model_name": "LayoutModel",
      "state": {
       "margin": "0px 0px 10px 0px"
      }
     },
     "b53e69efd62f49499bdbbfd9cd85db2b": {
      "model_module": "@jupyter-widgets/controls",
      "model_module_version": "2.0.0",
      "model_name": "HTMLModel",
      "state": {
       "layout": "IPY_MODEL_35a22eb1478149cf84f523e6f3919a97",
       "style": "IPY_MODEL_482582b5a938490a9e6e2c87dc245e43",
       "value": "<h5>Job ID</h5>"
      }
     },
     "b7ccf5464cfb4636a20b0d4cc184921d": {
      "model_module": "@jupyter-widgets/base",
      "model_module_version": "2.0.0",
      "model_name": "LayoutModel",
      "state": {
       "margin": "0px 0px 0px 37px",
       "width": "600px"
      }
     },
     "b95324ba1519496aa221601f6a57d02d": {
      "model_module": "@jupyter-widgets/controls",
      "model_module_version": "2.0.0",
      "model_name": "HTMLStyleModel",
      "state": {
       "description_width": "",
       "font_size": null,
       "text_color": null
      }
     },
     "ddfe7b557c4644248ce4c33cc81d31d9": {
      "model_module": "@jupyter-widgets/controls",
      "model_module_version": "2.0.0",
      "model_name": "HTMLStyleModel",
      "state": {
       "description_width": "",
       "font_size": null,
       "text_color": null
      }
     },
     "e9ca386f0c504c528f0fd745edf9e0b3": {
      "model_module": "@jupyter-widgets/controls",
      "model_module_version": "2.0.0",
      "model_name": "HBoxModel",
      "state": {
       "children": [
        "IPY_MODEL_b53e69efd62f49499bdbbfd9cd85db2b",
        "IPY_MODEL_edd6095d8aec45cea90db43252b92377",
        "IPY_MODEL_ee54141231514a74a68226c7742f0679",
        "IPY_MODEL_48662b477c604c64bc6acbf706f1214f",
        "IPY_MODEL_06bf43bd083842c787776a67c6edf3ec"
       ],
       "layout": "IPY_MODEL_b7ccf5464cfb4636a20b0d4cc184921d"
      }
     },
     "edd6095d8aec45cea90db43252b92377": {
      "model_module": "@jupyter-widgets/controls",
      "model_module_version": "2.0.0",
      "model_name": "HTMLModel",
      "state": {
       "layout": "IPY_MODEL_8b7a6014379a48b6ab670fd0e96d958a",
       "style": "IPY_MODEL_184d978ae2f6426196a1a02f5e44d374",
       "value": "<h5>Backend</h5>"
      }
     },
     "ee54141231514a74a68226c7742f0679": {
      "model_module": "@jupyter-widgets/controls",
      "model_module_version": "2.0.0",
      "model_name": "HTMLModel",
      "state": {
       "layout": "IPY_MODEL_f41224a376824df09a68f07a07439c8b",
       "style": "IPY_MODEL_8aa47a07eb4d4f55b3fe37c1595bd300",
       "value": "<h5>Status</h5>"
      }
     },
     "f41224a376824df09a68f07a07439c8b": {
      "model_module": "@jupyter-widgets/base",
      "model_module_version": "2.0.0",
      "model_name": "LayoutModel",
      "state": {
       "width": "95px"
      }
     },
     "fd2d4841767440d0a2b02ba6299c9576": {
      "model_module": "@jupyter-widgets/base",
      "model_module_version": "2.0.0",
      "model_name": "LayoutModel",
      "state": {}
     }
    },
    "version_major": 2,
    "version_minor": 0
   }
  }
 },
 "nbformat": 4,
 "nbformat_minor": 5
}
