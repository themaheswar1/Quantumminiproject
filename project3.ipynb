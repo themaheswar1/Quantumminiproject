{
 "cells": [
  {
   "cell_type": "code",
   "execution_count": 1,
   "id": "b3ffa5de-a388-4fd3-8af8-3bcbd41683da",
   "metadata": {
    "tags": []
   },
   "outputs": [],
   "source": [
    "# Importing standard Qiskit libraries\n",
    "from qiskit import QuantumCircuit, transpile\n",
    "from qiskit.tools.jupyter import *\n",
    "from qiskit.visualization import *\n",
    "from ibm_quantum_widgets import *\n",
    "from qiskit_aer import AerSimulator\n",
    "\n",
    "# qiskit-ibmq-provider has been deprecated.\n",
    "# Please see the Migration Guides in https://ibm.biz/provider_migration_guide for more detail.\n",
    "from qiskit_ibm_runtime import QiskitRuntimeService, Sampler, Estimator, Session, Options\n",
    "\n",
    "# Loading your IBM Quantum account(s)\n",
    "service = QiskitRuntimeService(channel=\"ibm_quantum\")\n",
    "\n",
    "# Invoke a primitive inside a session. For more details see https://qiskit.org/documentation/partners/qiskit_ibm_runtime/tutorials.html\n",
    "# with Session(backend=service.backend(\"ibmq_qasm_simulator\")):\n",
    "#     result = Sampler().run(circuits).result()"
   ]
  },
  {
   "cell_type": "code",
   "execution_count": null,
   "id": "b804776f-d455-4b36-9e63-de8d3b77616a",
   "metadata": {
    "tags": []
   },
   "outputs": [
    {
     "name": "stdout",
     "output_type": "stream",
     "text": [
      "Welcome to Quantum Rock-Paper-Scissors!\n",
      "Enter your move: rock, paper, or scissors.\n"
     ]
    },
    {
     "name": "stdin",
     "output_type": "stream",
     "text": [
      "Your move:  rock\n"
     ]
    },
    {
     "name": "stdout",
     "output_type": "stream",
     "text": [
      "Computer's move: lose!\n",
      "You lose!\n"
     ]
    }
   ],
   "source": [
    "from qiskit import QuantumCircuit, execute, Aer\n",
    "\n",
    "def quantum_rps(player_move):\n",
    "    # Create a quantum circuit with 2 qubits\n",
    "    qc = QuantumCircuit(2)\n",
    "\n",
    "    # Apply Hadamard gates to create superposition for both players\n",
    "    qc.h([0, 1])\n",
    "\n",
    "    # Apply X gates based on the player's move\n",
    "    if player_move == 'rock':\n",
    "        qc.x(0)\n",
    "    elif player_move == 'paper':\n",
    "        qc.x(1)\n",
    "\n",
    "    # Measure the qubits\n",
    "    qc.measure_all()\n",
    "\n",
    "    # Simulate the circuit\n",
    "    simulator = Aer.get_backend('qasm_simulator')\n",
    "    job = execute(qc, simulator, shots=1)\n",
    "    result = job.result()\n",
    "    computer_move = list(result.get_counts().keys())[0]\n",
    "\n",
    "    # Determine the winner\n",
    "    if player_move == computer_move:\n",
    "        return \"It's a tie!\"\n",
    "    elif (\n",
    "        (player_move == 'rock' and computer_move == 'scissors') or\n",
    "        (player_move == 'paper' and computer_move == 'rock') or\n",
    "        (player_move == 'scissors' and computer_move == 'paper')\n",
    "    ):\n",
    "        return \"You win!\"\n",
    "    else:\n",
    "        return \"You lose!\"\n",
    "\n",
    "# Play the Quantum Rock-Paper-Scissors game\n",
    "print(\"Welcome to Quantum Rock-Paper-Scissors!\")\n",
    "print(\"Enter your move: rock, paper, or scissors.\")\n",
    "\n",
    "while True:\n",
    "    player_move = input(\"Your move: \").lower()\n",
    "    if player_move not in ['rock', 'paper', 'scissors']:\n",
    "        print(\"Invalid move. Please try again.\")\n",
    "        continue\n",
    "\n",
    "    result = quantum_rps(player_move)\n",
    "    print(\"Computer's move:\", result.split()[1])\n",
    "    print(result)\n",
    "\n",
    "    play_again = input(\"Do you want to play again? (yes/no): \").lower()\n",
    "    if play_again != \"yes\":\n",
    "        print(\"Thanks for playing Quantum Rock-Paper-Scissors!\")\n",
    "        break\n"
   ]
  },
  {
   "cell_type": "code",
   "execution_count": null,
   "id": "38de2383-063c-4986-9519-67ef9f6a273d",
   "metadata": {},
   "outputs": [],
   "source": []
  }
 ],
 "metadata": {
  "kernelspec": {
   "display_name": "Python 3 (ipykernel)",
   "language": "python",
   "name": "python3"
  },
  "language_info": {
   "codemirror_mode": {
    "name": "ipython",
    "version": 3
   },
   "file_extension": ".py",
   "mimetype": "text/x-python",
   "name": "python",
   "nbconvert_exporter": "python",
   "pygments_lexer": "ipython3",
   "version": "3.10.8"
  },
  "widgets": {
   "application/vnd.jupyter.widget-state+json": {
    "state": {
     "03df6a2e01d74f009e106d169480f161": {
      "model_module": "@jupyter-widgets/controls",
      "model_module_version": "2.0.0",
      "model_name": "HTMLStyleModel",
      "state": {
       "description_width": "",
       "font_size": null,
       "text_color": null
      }
     },
     "04e242a743d341ffb5090ca12b015d27": {
      "model_module": "@jupyter-widgets/controls",
      "model_module_version": "2.0.0",
      "model_name": "HTMLModel",
      "state": {
       "layout": "IPY_MODEL_c5a242af2dc643b8bc29963424945590",
       "style": "IPY_MODEL_03df6a2e01d74f009e106d169480f161",
       "value": "<h5>Message</h5>"
      }
     },
     "05556d76a6b546c9beac8a104b69c6f5": {
      "model_module": "@jupyter-widgets/base",
      "model_module_version": "2.0.0",
      "model_name": "LayoutModel",
      "state": {
       "width": "70px"
      }
     },
     "0e268cdb3ab545a5b17969a3be52e303": {
      "model_module": "@jupyter-widgets/controls",
      "model_module_version": "2.0.0",
      "model_name": "HTMLModel",
      "state": {
       "layout": "IPY_MODEL_5f2825564f2f419d8195eb602079b4e0",
       "style": "IPY_MODEL_60210e8ee4884ab2b55b533a98d55ea7",
       "value": "<h5>Backend</h5>"
      }
     },
     "1e9bc3e6e8e8469997b77db8e3485e7e": {
      "model_module": "@jupyter-widgets/controls",
      "model_module_version": "2.0.0",
      "model_name": "ButtonStyleModel",
      "state": {
       "font_family": null,
       "font_size": null,
       "font_style": null,
       "font_variant": null,
       "font_weight": null,
       "text_color": null,
       "text_decoration": null
      }
     },
     "456c9d6cb1ba4dcbb5b1210ddf602bed": {
      "model_module": "@jupyter-widgets/controls",
      "model_module_version": "2.0.0",
      "model_name": "ButtonModel",
      "state": {
       "button_style": "primary",
       "description": "Clear",
       "layout": "IPY_MODEL_e63424dc1f6548649e4b892ba1a8d29c",
       "style": "IPY_MODEL_1e9bc3e6e8e8469997b77db8e3485e7e",
       "tooltip": null
      }
     },
     "5f2825564f2f419d8195eb602079b4e0": {
      "model_module": "@jupyter-widgets/base",
      "model_module_version": "2.0.0",
      "model_name": "LayoutModel",
      "state": {
       "width": "145px"
      }
     },
     "60210e8ee4884ab2b55b533a98d55ea7": {
      "model_module": "@jupyter-widgets/controls",
      "model_module_version": "2.0.0",
      "model_name": "HTMLStyleModel",
      "state": {
       "description_width": "",
       "font_size": null,
       "text_color": null
      }
     },
     "69b9495dacf74eebb04969707dabfd06": {
      "model_module": "@jupyter-widgets/controls",
      "model_module_version": "2.0.0",
      "model_name": "HTMLModel",
      "state": {
       "layout": "IPY_MODEL_cc429321fd3340a4bd1a50f455c480da",
       "style": "IPY_MODEL_b1286357d12d46ed9f4bf9237cb9a16c",
       "value": "<h5>Status</h5>"
      }
     },
     "7913e8bf48bd40b1a4fec9db113c410c": {
      "model_module": "@jupyter-widgets/base",
      "model_module_version": "2.0.0",
      "model_name": "LayoutModel",
      "state": {
       "margin": "0px 0px 10px 0px"
      }
     },
     "86348f97570146e0927a011a510a8735": {
      "model_module": "@jupyter-widgets/controls",
      "model_module_version": "2.0.0",
      "model_name": "GridBoxModel",
      "state": {
       "children": [
        "IPY_MODEL_456c9d6cb1ba4dcbb5b1210ddf602bed"
       ],
       "layout": "IPY_MODEL_97a9719559c24bc3a8a85c223a8b1a53"
      }
     },
     "94ffb65b335b4ab69e06bb02dd618579": {
      "model_module": "@jupyter-widgets/controls",
      "model_module_version": "2.0.0",
      "model_name": "HBoxModel",
      "state": {
       "children": [
        "IPY_MODEL_c414ad0b72084991bc0d29b2e917df46",
        "IPY_MODEL_0e268cdb3ab545a5b17969a3be52e303",
        "IPY_MODEL_69b9495dacf74eebb04969707dabfd06",
        "IPY_MODEL_f8a5a688c02848f5a1666a5a698ebef5",
        "IPY_MODEL_04e242a743d341ffb5090ca12b015d27"
       ],
       "layout": "IPY_MODEL_b08747d3130846d7acbd81b6b1093056"
      }
     },
     "97a9719559c24bc3a8a85c223a8b1a53": {
      "model_module": "@jupyter-widgets/base",
      "model_module_version": "2.0.0",
      "model_name": "LayoutModel",
      "state": {
       "grid_template_areas": "\n                                       \". . . . right \"\n                                        ",
       "grid_template_columns": "20% 20% 20% 20% 20%",
       "width": "100%"
      }
     },
     "a9d4f82fe47547a5a301d525f53acc3c": {
      "model_module": "@jupyter-widgets/base",
      "model_module_version": "2.0.0",
      "model_name": "LayoutModel",
      "state": {
       "width": "190px"
      }
     },
     "aa732c96a88e495f94b49354b08ab1a8": {
      "model_module": "@jupyter-widgets/controls",
      "model_module_version": "2.0.0",
      "model_name": "HTMLModel",
      "state": {
       "layout": "IPY_MODEL_7913e8bf48bd40b1a4fec9db113c410c",
       "style": "IPY_MODEL_e371d57452044d939ce2666263b90534",
       "value": "<p style='font-family: IBM Plex Sans, Arial, Helvetica, sans-serif; font-size: 20px; font-weight: medium;'>Circuit Properties</p>"
      }
     },
     "b08747d3130846d7acbd81b6b1093056": {
      "model_module": "@jupyter-widgets/base",
      "model_module_version": "2.0.0",
      "model_name": "LayoutModel",
      "state": {
       "margin": "0px 0px 0px 37px",
       "width": "600px"
      }
     },
     "b1286357d12d46ed9f4bf9237cb9a16c": {
      "model_module": "@jupyter-widgets/controls",
      "model_module_version": "2.0.0",
      "model_name": "HTMLStyleModel",
      "state": {
       "description_width": "",
       "font_size": null,
       "text_color": null
      }
     },
     "bc5f5731d36b4910b4505cc850855a30": {
      "model_module": "@jupyter-widgets/controls",
      "model_module_version": "2.0.0",
      "model_name": "HTMLStyleModel",
      "state": {
       "description_width": "",
       "font_size": null,
       "text_color": null
      }
     },
     "c414ad0b72084991bc0d29b2e917df46": {
      "model_module": "@jupyter-widgets/controls",
      "model_module_version": "2.0.0",
      "model_name": "HTMLModel",
      "state": {
       "layout": "IPY_MODEL_a9d4f82fe47547a5a301d525f53acc3c",
       "style": "IPY_MODEL_bc5f5731d36b4910b4505cc850855a30",
       "value": "<h5>Job ID</h5>"
      }
     },
     "c5a242af2dc643b8bc29963424945590": {
      "model_module": "@jupyter-widgets/base",
      "model_module_version": "2.0.0",
      "model_name": "LayoutModel",
      "state": {}
     },
     "cc429321fd3340a4bd1a50f455c480da": {
      "model_module": "@jupyter-widgets/base",
      "model_module_version": "2.0.0",
      "model_name": "LayoutModel",
      "state": {
       "width": "95px"
      }
     },
     "cd73003ee2e64bebb0217094f2e3436e": {
      "model_module": "@jupyter-widgets/controls",
      "model_module_version": "2.0.0",
      "model_name": "HTMLStyleModel",
      "state": {
       "description_width": "",
       "font_size": null,
       "text_color": null
      }
     },
     "e371d57452044d939ce2666263b90534": {
      "model_module": "@jupyter-widgets/controls",
      "model_module_version": "2.0.0",
      "model_name": "HTMLStyleModel",
      "state": {
       "description_width": "",
       "font_size": null,
       "text_color": null
      }
     },
     "e63424dc1f6548649e4b892ba1a8d29c": {
      "model_module": "@jupyter-widgets/base",
      "model_module_version": "2.0.0",
      "model_name": "LayoutModel",
      "state": {
       "grid_area": "right",
       "padding": "0px 0px 0px 0px",
       "width": "70px"
      }
     },
     "f8a5a688c02848f5a1666a5a698ebef5": {
      "model_module": "@jupyter-widgets/controls",
      "model_module_version": "2.0.0",
      "model_name": "HTMLModel",
      "state": {
       "layout": "IPY_MODEL_05556d76a6b546c9beac8a104b69c6f5",
       "style": "IPY_MODEL_cd73003ee2e64bebb0217094f2e3436e",
       "value": "<h5>Queue</h5>"
      }
     }
    },
    "version_major": 2,
    "version_minor": 0
   }
  }
 },
 "nbformat": 4,
 "nbformat_minor": 5
}
